{
 "cells": [
  {
   "cell_type": "markdown",
   "metadata": {},
   "source": [
    "# Project 1"
   ]
  },
  {
   "cell_type": "markdown",
   "metadata": {},
   "source": [
    "## Background\n",
    "\n",
    "In this project, I will practice defining the objectives and approach for a data science project.\n",
    "\n",
    "The case study that will be used for this exercise is [UCLA's Logistic Regression in R tutorial](https://stats.idre.ucla.edu/r/dae/logit-regression/) using the method for logistic regression in Python described in the \n",
    "[yhat blog](http://blog.yhat.com/posts/logistic-regression-python-rodeo.html).\n",
    "\n",
    "In what follows, I will:\n",
    "- Write a high quality *problem statement*\n",
    "- Identify *features* of the dataset, including the *outcome* and *covariates/predictors*\n",
    "- Create a *data dictionary* with classification of available variables\n",
    "- State the *risks and assumptions* of the data\n",
    "- Outline exploratory *analysis methods*\n",
    "\n",
    "And:\n",
    "- Practice writing an *alternative problem statement* for the dataset\n",
    "- Articulate the risks and assumptions of this alternative model"
   ]
  },
  {
   "cell_type": "markdown",
   "metadata": {},
   "source": [
    "## Problem Statement\n",
    "The goal of the hypothetical study is to examine the various factors that may influence admission into graduate school. \n",
    "\n",
    "The variables examined are: (the variable names as indicated in the mock data set are in 'quotes')\n",
    "- 'gre' is GRE (Graduate Record Exam) score\n",
    "- 'gpa' is Grade Point Average at the student's undergaduate alma mater\n",
    "- 'rank' is the rank of an applicant's undergraduate alma mater, with 1 being the highest and 4 as the lowest. This is a numeric representation of the prestige of the undergraduate institution.\n",
    "\n",
    "The response variable, 'admit', indicates whether or not a candidate was admitted (admit =1) our not (admit= 0).\n",
    "\n",
    "The mock dataset is available from the General Assembly github library for Data Science students: [Admissions.csv](https://github.com/ga-students/DAT-NYC-7.24.17/blob/master/projects/unit-projects/project-1/assets/admissions.csv)"
   ]
  },
  {
   "cell_type": "markdown",
   "metadata": {},
   "source": [
    "## Features of the Data Set "
   ]
  },
  {
   "cell_type": "markdown",
   "metadata": {},
   "source": [
    "#### 1. What is the outcome?"
   ]
  },
  {
   "cell_type": "markdown",
   "metadata": {},
   "source": [
    "Answer: 'admit' is the outcome (a.k.a. response or dependent variable), the purpose of the study is to examine the effect the predictors, 'gre', 'gpa' and 'rank' on 'admit'."
   ]
  },
  {
   "cell_type": "markdown",
   "metadata": {},
   "source": [
    "#### 2. What are the predictors/covariates? "
   ]
  },
  {
   "cell_type": "markdown",
   "metadata": {},
   "source": [
    "Answer: 'gre', 'gpa' and 'rank' are predictor/covariate variables, they will be varied together in order to observe their impact on the outcome, 'admit'."
   ]
  },
  {
   "cell_type": "markdown",
   "metadata": {},
   "source": [
    "#### 3. What timeframe is this data relevant for?"
   ]
  },
  {
   "cell_type": "markdown",
   "metadata": {},
   "source": [
    "Answer: this mock data set does not have a timeframe defined, for purposes of this exercise, we will assume the data represents a cohort for a timeframe that is appropriate for this study, the most recent year or years of admissions, for instance."
   ]
  },
  {
   "cell_type": "markdown",
   "metadata": {},
   "source": [
    "#### 4. What is the hypothesis?"
   ]
  },
  {
   "cell_type": "markdown",
   "metadata": {},
   "source": [
    "Answer: The hypothesis is that the outcome 'admit' = 1 is positively correlated with high values for 'gre', 'gpa' and 'rank' (where a high rank is a smaller number)."
   ]
  },
  {
   "cell_type": "markdown",
   "metadata": {},
   "source": [
    "## Data Dictionary"
   ]
  },
  {
   "cell_type": "markdown",
   "metadata": {},
   "source": [
    "Variable | Description | Type of Variable\n",
    ":---| :---| :---\n",
    "Var 'admit' | 0 = not admitted, 1 = admitted | discrete, binary\n",
    "Var 'gre' | GRE (Graduate Record Exam) score | continuous \n",
    "Var 'gpa' | Grade Point Average at the student's undergaduate institution | continuous \n",
    "Var 'rank' | rank of an applicant's undergraduate alma mater, with 1 being the highest prestige and 4 as the lowest | discrete \n"
   ]
  },
  {
   "cell_type": "markdown",
   "metadata": {},
   "source": [
    "## Risks and Assumptions"
   ]
  },
  {
   "cell_type": "markdown",
   "metadata": {},
   "source": [
    "- Assumption: the population for which the data has been collected is representative of the population I would like to analyze and understsand. If the scores and school rankings are for students applying to UCLA for enrollment in the fall of 2016, the most recent academic year, then the conclusions I could draw are going to be relevant to UCLA and recent admissions only.\n",
    "- Risks: there are other factors that are more influential in determining admissions decisions than those included in the data set, such as race, household income and state/country of residence. The study may show some correlation, but the accuracy may be improved by including other factors in a subsequent study. "
   ]
  },
  {
   "cell_type": "markdown",
   "metadata": {},
   "source": [
    "## Analysis Methods"
   ]
  },
  {
   "cell_type": "markdown",
   "metadata": {},
   "source": [
    "Using the lab from a class as a guide, create an exploratory analysis plan. "
   ]
  },
  {
   "cell_type": "markdown",
   "metadata": {},
   "source": [
    "#### 1. What are the goals of the exploratory analysis? "
   ]
  },
  {
   "cell_type": "markdown",
   "metadata": {
    "collapsed": true
   },
   "source": [
    "Answer: The exploratory analysis will examine basic characteristics of the data set using statistical and visualization methods. This will provide information about the range and variability of each data element, providing some early insight into the quality of data and the study population."
   ]
  },
  {
   "cell_type": "markdown",
   "metadata": {},
   "source": [
    "#### 2a. What are the assumptions regarding the distribution of the data? "
   ]
  },
  {
   "cell_type": "markdown",
   "metadata": {},
   "source": [
    "Answer: Assuming the school is competitive, there will be more students who are not admitted than those who are. The gre, gpa and rank variables will likely have a skewed distribution, with a mode near the higher end of scores and a long tail with low values. For less competitive schools, the mode will probably be closer to middle scores and a distribution approaching normal."
   ]
  },
  {
   "cell_type": "markdown",
   "metadata": {},
   "source": [
    "#### 2b. How will you determine the distribution of your data? "
   ]
  },
  {
   "cell_type": "markdown",
   "metadata": {
    "collapsed": true
   },
   "source": [
    "Answer: Basic statistics (see describe method outputs below) and histograms will provide both numeric and visual indicators of the distribution."
   ]
  },
  {
   "cell_type": "markdown",
   "metadata": {},
   "source": [
    "#### 3a. How might outliers impact your analysis? "
   ]
  },
  {
   "cell_type": "markdown",
   "metadata": {
    "collapsed": true
   },
   "source": [
    "Answer: With a large enough sample, the outliers will hopefully not impact the overall analysis. "
   ]
  },
  {
   "cell_type": "markdown",
   "metadata": {},
   "source": [
    "#### 3b. How will you test for outliers? "
   ]
  },
  {
   "cell_type": "markdown",
   "metadata": {},
   "source": [
    "Answer: examining the max/min and quartiles will show the outlier values and any skewed distributions. Histograms will allow a clear visual signal of outliers. It's also a good idea to look for null values and ensure treatment of these values is appropriate for the analysis."
   ]
  },
  {
   "cell_type": "markdown",
   "metadata": {},
   "source": [
    "#### 4. What is your exploratory analysis plan?\n",
    "Using the above information, write an exploratory analysis plan that would allow you or a colleague to reproduce your analysis 1 year from now. "
   ]
  },
  {
   "cell_type": "markdown",
   "metadata": {},
   "source": [
    "Answer: \n",
    "- Read the data set [Admissions.csv](https://github.com/ga-students/DAT-NYC-7.24.17/blob/master/projects/unit-projects/project-1/assets/admissions.csv) into an array with 4 columns\n",
    "- Apply describe method on the array to obtain basic statistics on each column\n",
    "    - count\n",
    "    - mean\n",
    "    - standard deviation\n",
    "    - min\n",
    "    - quartiles\n",
    "    - max\n",
    "- Apply the hist and show functions to plot and show histograms of the 4 columns"
   ]
  },
  {
   "cell_type": "markdown",
   "metadata": {
    "collapsed": true
   },
   "source": [
    "## Alternative Problem Statement"
   ]
  },
  {
   "cell_type": "markdown",
   "metadata": {},
   "source": [
    "Knowing whether a student has been admitted to the graduate school and rank of their undergraduate school, you can predict their gre and undergraduate gpa.\n",
    "\n",
    "### Risks and Assumptions\n",
    "- Assumptions: There are enough samples in each category of analysis (admit, rank)."
   ]
  },
  {
   "cell_type": "markdown",
   "metadata": {},
   "source": [
    "## Predicting Outcome"
   ]
  },
  {
   "cell_type": "markdown",
   "metadata": {},
   "source": [
    "- A potential method for predicting admit is to calculate the percentage of admit=1 that occur in each bin of gre, bin of gpa or value of rank. These can be indicators of probability for each variable - the probability of admit=1 for a given gre is the percentage of admit=1 in that bin. We could also look at the probability given gpa and rank as well, and apply statistics to derive a probability for each *combination* of gre, gpa and rank.\n",
    "- A more rigorous method would be to apply the odds ratio and logarithmic regression method described in the [yhat blog](http://blog.yhat.com/posts/logistic-regression-python-rodeo.html)."
   ]
  }
 ],
 "metadata": {
  "kernelspec": {
   "display_name": "Python 2",
   "language": "python",
   "name": "python2"
  },
  "language_info": {
   "codemirror_mode": {
    "name": "ipython",
    "version": 2
   },
   "file_extension": ".py",
   "mimetype": "text/x-python",
   "name": "python",
   "nbconvert_exporter": "python",
   "pygments_lexer": "ipython2",
   "version": "2.7.13"
  },
  "widgets": {
   "state": {},
   "version": "1.1.2"
  }
 },
 "nbformat": 4,
 "nbformat_minor": 1
}
