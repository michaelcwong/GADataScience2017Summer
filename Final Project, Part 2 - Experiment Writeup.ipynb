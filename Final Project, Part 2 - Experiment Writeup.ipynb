{
 "cells": [
  {
   "cell_type": "markdown",
   "metadata": {},
   "source": [
    "# Problem Statement"
   ]
  },
  {
   "cell_type": "markdown",
   "metadata": {},
   "source": [
    "I am interested in purchasing rental property with friends. We want to compare markets and decide where to buy. I will develop a data-driven approach to evaluate three potential markets: Brooklyn, Boston and Cleveland. Using historical data, I will establish relationships between variables affecting property prices and rents, and use temporal trends to guide prediction of prices and rents by zip code.\n",
    "\n",
    "The goal is identify specific neighborhoods that will have: \n",
    "- Stable or rising market value\n",
    "- Stable or rising rental income\n",
    "\n",
    "The following factors will be incorporated into a model to predict property value and rent by zip code:\n",
    "- Number of Housing Units\n",
    "- Vacancy rates\n",
    "- Population\n",
    "- Employment\n",
    "- Household income\n",
    "- Education levels\n",
    "\n",
    "For the purpose of brevity, the desired outcomes of property value and rent will be referred to collectively as \"prices\" in the remainder of this write up.\n",
    "\n",
    "The Hypothesis:  Prices can be predicted by their response to changes in the housing market and socioeconomic trends."
   ]
  },
  {
   "cell_type": "markdown",
   "metadata": {},
   "source": [
    "# Methods & Models"
   ]
  },
  {
   "cell_type": "markdown",
   "metadata": {},
   "source": [
    "An initial exploratory analysis will examine basic characteristics of the data set using statistical and visualization methods. This will provide information about the range and variability of each data element, providing some early insight into the quality of data and the study population.\n",
    "\n",
    "### Components of Exploratory Analysis\n",
    "\n",
    "Create frequency tables to obtain basic indicators of distribution\n",
    "\n",
    "Apply describe, skew and kurt methods on the data set to obtain basic indicators of distribution\n",
    "- count\n",
    "- mean\n",
    "- standard deviation\n",
    "- min\n",
    "- quartiles\n",
    "- max\n",
    "- skewness\n",
    "- kurtsis\n",
    "\n",
    "Create scatter plots, box plots, histograms and violin plots to visualize and examine the data distribution\n",
    "\n",
    "Examine correlations amongst the data attributes using a correlation matrix"
   ]
  },
  {
   "cell_type": "markdown",
   "metadata": {},
   "source": [
    "### Model Selection\n",
    "\n",
    "As prices are continuous variables, a linear regression model is selected for prediction. The coefficient, intercept and residuals will be examined using tabular summaries, histograms and scatter plots. Regularization will be applied to constrain the complexity of the model with the Lasso and Ridge methods. \n",
    "\n",
    "The response of price to time will be examined for trends. An appropriate trend analysis will be selected depending on the degree to which price is observed to be cyclical. Mann-Kendall analysis is available in the first instance; if exploratory analysis shows a high degree of cyclical behavior in the data, the trend analysis approach may need to be adjusted."
   ]
  },
  {
   "cell_type": "markdown",
   "metadata": {},
   "source": [
    "# Features of the Data"
   ]
  },
  {
   "cell_type": "markdown",
   "metadata": {},
   "source": [
    "### Geographic Location\n",
    "\n",
    "The Census is conducted every 10 years, most recently in 2010. Geographic location of Census responses are indicated by Zip code tabular areas ([ZCTA](https://www.census.gov/geo/reference/zctas.html)). ZIP ([Zone Improvement Plan](http://gis.washington.edu/phurvitz/zip_or_zcta/index.html) codes were implemented by the USPS in 1963 as groupings of addresses that would improve efficiency of mail distribution. ZCTAs were implemented by the Census bureau [in 2000](https://en.wikipedia.org/wiki/ZIP_Code_Tabulation_Area), to improve the geographic representation of the data.\n",
    "\n",
    "The Census Bureau explains the methodology for creating ZCTAs [on its website](https://www.census.gov/geo/reference/zctas.html). In short, all addresses in the same census block are assigned the same ZCTA as the most frequently occuring Zip code. There are exceptions where a single most frequent Zip code is determined (tie) or some tracts of land that do not have a Zip code; these are handled by assigning these addresses to the ZCTA with the longest shared boundary.\n",
    "\n",
    "While more than 50% of ZCTAs share more than 90% of their area with associated Zip codes, more than 10% share less than half their area with their Zip code. [\"Sometimes, the ZCTA is a small piece of the Zip Code, sometimes the Zip Code is a small piece of the ZCTA, and sometimes they’re just in different places\"](https://www.policymap.com/2016/03/what-are-zip-code-tabulation-areas/). And while ZCTAs are only changed once every ten years, Zip codes may be added, removed or changed at any time between Censuses.\n",
    "\n",
    "\n",
    "### American Community Survey (ACS)\n",
    "[\"During previous decennial censuses, most households received a short-form questionnaire, while one household in six received a long form that contained additional questions and provided more detailed socioeconomic information about the population.\"](https://www.census.gov/history/www/programs/demographic/american_community_survey.html)\n",
    "\n",
    "In 2010, the ACS was introduced as a complementary program to the Census. That year's Census was a short-form only, an efficient survey of basic demographics. More detailed socioeconomic information, previously collected via the long-form questionnaire, is now collected by the ACS every year since 2010. [\"It is sent to a small percentage of the population on a rotating basis throughout the decade. No household will receive the survey more often than once every five years.\"](https://www.census.gov/history/www/programs/demographic/american_community_survey.html). [\"The Decennial Census counts people in all of the housing units and group quarters, while the ACS conducts a sample survey and generates estimates.\"](https://factfinder.census.gov/help/en/tutorials/people_and_housing_tutorial.htm#transcript_text) While the ACS's coverage is not the full extent of the American population, it has an advantage in providing more current data. The ACS data set is provided with one-year, 3-year and 5-year estimates.\n",
    "\n",
    "### Variables of Interest\n",
    "Income, Educational Attainment and Employment Status (1930) have been collected since the 1940 Census. The value of real estate, rent, building description, number of housing units and vacancy data have been collected since 1980 in their current form. Earlier questionnaires may include questions on these topics, however, the questions and responses take different forms and may be difficult to integrate consistently. A review of [the questionnaires](https://www.census.gov/prod/2002pubs/pol02-ma.pdf) is helpful in understanding the underlying data. Observations are noted in the Data Dictionary."
   ]
  },
  {
   "cell_type": "markdown",
   "metadata": {},
   "source": [
    "# Data Dictionary"
   ]
  },
  {
   "cell_type": "markdown",
   "metadata": {},
   "source": [
    "Variable | Description | Type of Variable \n",
    ":---| :---| :---\n",
    "'Year' | The year the data was collected | integer (YYYY)\n",
    "'Zip Code' | Postal Zip Code | Integer (#####) \n",
    "'ZCTA' | ZCTA | text \n",
    "'Population' | Count of Persons | integer\n",
    "'Building Description' | mobile, one-family (attached, not attached), building with n apartments | Text (chosen from fixed list of responses)\n",
    "'Real Estate Value' | Value of One-Family House (or Condo, included in 1980 not 1990) | Text (range, chosen from fixed list of responses)\n",
    "'Rent' | Monthly Rent | Continuous, decimal\n",
    "'Employment Status' | Current work status, \"last week\". Worked last week (Y/N), number of hours, temporary absence, job search status last 4 weeks (Y/N) | Text (combination of answers, chosen from fixed list of responses)\n",
    "'Income' | Total Income | Continuous, decimal \n",
    "'Educational Attainment' | Highest Grade Attended; 1980: Level, Grade Year and Completed (Y/N); 1990: highest grade completed: grade or degree type (fixed list) | Text(chosen from fixed list of responses)\n",
    "'Number of Housing Units' | Number of living quarters | Text (chosen from fixed list of responses)\n",
    "'Vacancy' | Census agent indication for vacant properties: occupied, vacant, indication of use-driven vacancy (2nd home, seasonal use), vacancy status (for rent/sale), months vacant| Text (chosen from fixed list of responses)"
   ]
  },
  {
   "cell_type": "markdown",
   "metadata": {},
   "source": [
    "# Assumptions, Risks, Caveats & Questions"
   ]
  },
  {
   "cell_type": "markdown",
   "metadata": {},
   "source": [
    "ISSUE: [Changes in survey method and questions occur with each Census](https://www.census.gov/prod/2002pubs/pol02-ma.pdf), which can result in data gaps or differences in sample size. In 1980, the Census was a single questionnaire with 33 individual (multi-part) questions and 32 household (multi-part) questions. In 1990, the Census was conducted with 2 forms: (1) a \"short form\", including 7 population questions and 7 housing questions, sent to 5 of 6 homes, and (2) a \"long form\", including the short form questions plus: 19 additional housing questions and 26 additional population questions, sent to 1 of 6 homes. In 2000, there were also 2 forms. This time the short form contained 8 questions and the long form included 29 additional questions. This issue can be resolved through careful selection of consistent data sets.\n",
    "\n",
    "CAVEAT: Results of analyses using Census data can be generalized across a collection of ZCTAs or for a specific ZCTA of interest. However, where a ZCTA does not have an associated Zip code or the spatial extent of a ZCTA differs widely from its associated Zip code, results may not be as accurately indicative of behavior in these areas. This issue affects the ability to incorporate Zip code based data. If Zip code based data needs to be used, a mapping will need to be obtained or regions of interest in Boston, Brooklyn and Cleveland need to be examined for differences in Zip code and ZCTA boundaries.\n",
    "\n",
    "ASSUMPTION: The assessment of home value is entered by the owner, who may or may not have an accurate understanding of the market value of the property. The assumption in using this data is that most homeowners can indicate a reasonably close estimate. Accuracy of rent values should not be in question, as most respondents will be aware of their monthly rent.\n",
    "\n",
    "CAVEAT: The Census is [known](https://www.census.gov/history/www/through_the_decades/overview/1980.html) to [under-represent minorities](https://www.cbsnews.com/news/2010-census-missed-15-million-minorities/) due to the mail-based survey method. While the current model design does not include race as a factor in prediction, this issue should be considered in designing future improvements.\n",
    "\n",
    "QUESTION: What is the American Housing Survey and is it useful for our analysis? How can it be incorporated?"
   ]
  },
  {
   "cell_type": "markdown",
   "metadata": {},
   "source": [
    "# Success Criteria"
   ]
  },
  {
   "cell_type": "markdown",
   "metadata": {},
   "source": [
    "This project will be considered successful if it can significantly differentiate between neighborhoods of high value for investment (stable or rising market value, stable or rising rental income) from other areas. The intermediate outcome will be time-series trends for our data set for Boston, Brooklyn and Cleveland neighborhoods. Using the trend analysis, we will predict demographic and market conditions in future years (2020, 2025, 2030) and use a linear regression model to predict prices in neighborhoods based on predicted trends in demographics and housing stock over those years. The predicted prices can be analyzed for capital growth (change in market value) and cashflow potential (gross rent multiplier = market value / total rent)."
   ]
  },
  {
   "cell_type": "markdown",
   "metadata": {},
   "source": [
    "# Benchmarks & Similar Projects"
   ]
  },
  {
   "cell_type": "markdown",
   "metadata": {},
   "source": [
    "On Kaggle, the [Sberbank Russian Housing Market competition](https://www.kaggle.com/c/sberbank-russian-housing-market) provides a directly relevant case study. There is a broad base of data, including elements we are investigating such as rent price, employment, income, etc. The challenge will be finding a competition model that uses the data elements of interest to our model and applies it in a way that is consistent with ours or close enough to assist. \n",
    "\n",
    "Two other competitions, [Zillow’s Home Value Prediction (Zestimate)](https://www.kaggle.com/c/zillow-prize-1/data) and [House Prices: Advanced Regression Techniques](https://www.kaggle.com/c/house-prices-advanced-regression-techniques/data), are related but focus more on home features rather than demographics to predict house price, and do not address rental price predictions. \n",
    "\n",
    "There are numerous research papers on the valuation of homes, including the Federal Reserve Bank of New York's September 2008 publication [\"What Drives Housing Prices?\"](https://www.newyorkfed.org/medialibrary/media/research/staff_reports/sr345.pdf). \n",
    "\n",
    "More time is required to review research papers and Kaggle competitions to extract relevant value."
   ]
  },
  {
   "cell_type": "markdown",
   "metadata": {},
   "source": [
    "# Project Concerns"
   ]
  },
  {
   "cell_type": "markdown",
   "metadata": {},
   "source": [
    "### Narrowing Down and Accessing Data\n",
    "Currently, I am working out how to access both Census and ACS (American Community Survey) data sets. Once I do, I am concerned there will be issues with joining the two data sets. I also have not seen a detailed inventory / dictionary of data sets and data elements that helps me understand what is available in totality across the two data sets and across time periods.\n",
    "\n",
    "In terms of sourcing data, I have identified [APIs](https://www.census.gov/data/developers/data-sets.html) that are made available by the Census Bureau and the [Cenpy package](https://earthdatascience.org/tutorials/get-cenus-data-with-cenpy/) that enables access to these APIs. However, I have not started using them (will do so in upcoming days) so there is a risk the API connection may not work as expected and need troubleshooting. Also, I assume that API connection is more efficient than web-based downloads such as the [IPUMS site](https://usa.ipums.org/usa/index.shtml).\n",
    "\n",
    "A [fellow data scientist](https://buddingdatascientist.wordpress.com/2015/04/23/using-python-to-make-pulling-census-data-easy/) has posted a number of [Python scripts on GitHub](https://github.com/mikeasilva/cgr-work/tree/master/general-python-scripts) that appear relevant and can give a head start with accessing and transforming data.  "
   ]
  },
  {
   "cell_type": "markdown",
   "metadata": {},
   "source": [
    "### Connecting Models\n",
    "I believe we have learned enough to be able to look at relationship between time and other variables, to give an indicator of relationship using linear regression. I can supplement this analysis with Mann-Kendall analysis to provide further confidence in the direction and significance of change. I am unclear whether the outputs of these analyses can be enough to predict future demographic variables which I intend to have as inputs to predict prices. I am also unsure whether this theory of connecting the output of trend analysis to linear regression is feasible. "
   ]
  }
 ],
 "metadata": {
  "kernelspec": {
   "display_name": "Python 2",
   "language": "python",
   "name": "python2"
  },
  "language_info": {
   "codemirror_mode": {
    "name": "ipython",
    "version": 2
   },
   "file_extension": ".py",
   "mimetype": "text/x-python",
   "name": "python",
   "nbconvert_exporter": "python",
   "pygments_lexer": "ipython2",
   "version": "2.7.13"
  }
 },
 "nbformat": 4,
 "nbformat_minor": 2
}
