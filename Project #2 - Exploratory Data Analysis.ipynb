{
 "cells": [
  {
   "cell_type": "markdown",
   "metadata": {},
   "source": [
    "# Introduction"
   ]
  },
  {
   "cell_type": "markdown",
   "metadata": {},
   "source": [
    "### Context\n",
    "The exploratory analysis plan developed in [Project 1](https://github.com/michaelcwong/GADataScience2017Summer/blob/master/Project%20%231%20Research%20Design%20Write-Up.ipynb) will be implemented in this notebook. \n",
    "Components of this exercise will be used for the modeling exercise in Project 3. To recap, the goal of the hypothetical study is to examine the various factors that may influence admission into graduate school. The hypothesis is that the outcome 'admit' = 1 is positively correlated with high values for predictors 'gre', 'gpa' and 'rank' (where a high rank is a smaller number)."
   ]
  },
  {
   "cell_type": "markdown",
   "metadata": {},
   "source": [
    "### Exploratory Analysis Methods\n",
    "As stated in Project 1, the exploratory analysis will examine basic characteristics of the data set using statistical and visualization methods. This will provide information about the range and variability of each data element, providing some early insight into the quality of data and the study population.\n",
    "\n",
    "Specifically, the following steps will be taken: \n",
    "- Read the data from a csv file into an array\n",
    "- Apply describe, skew and kurt methods obtain basic statistics on each column\n",
    "- Create histograms, box plots and violin plots to visualize and examine the data distribution\n",
    "- Examine correlations amongst the data attributes using a correlation matrix\n",
    "- Summarize issues/limitations and findings"
   ]
  },
  {
   "cell_type": "code",
   "execution_count": 132,
   "metadata": {
    "collapsed": true
   },
   "outputs": [],
   "source": [
    "# import libraries\n",
    "import pandas as pd\n",
    "import numpy as np\n",
    "import matplotlib.pyplot as plt\n",
    "import seaborn as sns"
   ]
  },
  {
   "cell_type": "code",
   "execution_count": 133,
   "metadata": {
    "collapsed": true
   },
   "outputs": [],
   "source": [
    "# Read the data set into an array\n",
    "data = pd.read_csv(\"https://stats.idre.ucla.edu/stat/data/binary.csv\")"
   ]
  },
  {
   "cell_type": "markdown",
   "metadata": {
    "collapsed": true
   },
   "source": [
    "# Data Distribution with Statistics"
   ]
  },
  {
   "cell_type": "code",
   "execution_count": 134,
   "metadata": {},
   "outputs": [
    {
     "data": {
      "text/html": [
       "<div>\n",
       "<style>\n",
       "    .dataframe thead tr:only-child th {\n",
       "        text-align: right;\n",
       "    }\n",
       "\n",
       "    .dataframe thead th {\n",
       "        text-align: left;\n",
       "    }\n",
       "\n",
       "    .dataframe tbody tr th {\n",
       "        vertical-align: top;\n",
       "    }\n",
       "</style>\n",
       "<table border=\"1\" class=\"dataframe\">\n",
       "  <thead>\n",
       "    <tr style=\"text-align: right;\">\n",
       "      <th></th>\n",
       "      <th>admit</th>\n",
       "      <th>gre</th>\n",
       "      <th>gpa</th>\n",
       "      <th>rank</th>\n",
       "    </tr>\n",
       "  </thead>\n",
       "  <tbody>\n",
       "    <tr>\n",
       "      <th>count</th>\n",
       "      <td>400.000000</td>\n",
       "      <td>400.000000</td>\n",
       "      <td>400.000000</td>\n",
       "      <td>400.00000</td>\n",
       "    </tr>\n",
       "    <tr>\n",
       "      <th>mean</th>\n",
       "      <td>0.317500</td>\n",
       "      <td>587.700000</td>\n",
       "      <td>3.389900</td>\n",
       "      <td>2.48500</td>\n",
       "    </tr>\n",
       "    <tr>\n",
       "      <th>std</th>\n",
       "      <td>0.466087</td>\n",
       "      <td>115.516536</td>\n",
       "      <td>0.380567</td>\n",
       "      <td>0.94446</td>\n",
       "    </tr>\n",
       "    <tr>\n",
       "      <th>min</th>\n",
       "      <td>0.000000</td>\n",
       "      <td>220.000000</td>\n",
       "      <td>2.260000</td>\n",
       "      <td>1.00000</td>\n",
       "    </tr>\n",
       "    <tr>\n",
       "      <th>25%</th>\n",
       "      <td>0.000000</td>\n",
       "      <td>520.000000</td>\n",
       "      <td>3.130000</td>\n",
       "      <td>2.00000</td>\n",
       "    </tr>\n",
       "    <tr>\n",
       "      <th>50%</th>\n",
       "      <td>0.000000</td>\n",
       "      <td>580.000000</td>\n",
       "      <td>3.395000</td>\n",
       "      <td>2.00000</td>\n",
       "    </tr>\n",
       "    <tr>\n",
       "      <th>75%</th>\n",
       "      <td>1.000000</td>\n",
       "      <td>660.000000</td>\n",
       "      <td>3.670000</td>\n",
       "      <td>3.00000</td>\n",
       "    </tr>\n",
       "    <tr>\n",
       "      <th>max</th>\n",
       "      <td>1.000000</td>\n",
       "      <td>800.000000</td>\n",
       "      <td>4.000000</td>\n",
       "      <td>4.00000</td>\n",
       "    </tr>\n",
       "  </tbody>\n",
       "</table>\n",
       "</div>"
      ],
      "text/plain": [
       "            admit         gre         gpa       rank\n",
       "count  400.000000  400.000000  400.000000  400.00000\n",
       "mean     0.317500  587.700000    3.389900    2.48500\n",
       "std      0.466087  115.516536    0.380567    0.94446\n",
       "min      0.000000  220.000000    2.260000    1.00000\n",
       "25%      0.000000  520.000000    3.130000    2.00000\n",
       "50%      0.000000  580.000000    3.395000    2.00000\n",
       "75%      1.000000  660.000000    3.670000    3.00000\n",
       "max      1.000000  800.000000    4.000000    4.00000"
      ]
     },
     "execution_count": 134,
     "metadata": {},
     "output_type": "execute_result"
    }
   ],
   "source": [
    "# Apply describe method on the array to obtain basic statistics on each column\n",
    "data.describe()"
   ]
  },
  {
   "cell_type": "code",
   "execution_count": 135,
   "metadata": {},
   "outputs": [
    {
     "data": {
      "text/plain": [
       "admit    0.787051\n",
       "gre     -0.144357\n",
       "gpa     -0.208698\n",
       "rank     0.097223\n",
       "dtype: float64"
      ]
     },
     "execution_count": 135,
     "metadata": {},
     "output_type": "execute_result"
    }
   ],
   "source": [
    "# Apply skew method on the array to obtain measure of asymmetry\n",
    "data.skew()"
   ]
  },
  {
   "cell_type": "code",
   "execution_count": 136,
   "metadata": {},
   "outputs": [
    {
     "data": {
      "text/plain": [
       "admit   -1.387513\n",
       "gre     -0.331178\n",
       "gpa     -0.579383\n",
       "rank    -0.891587\n",
       "dtype: float64"
      ]
     },
     "execution_count": 136,
     "metadata": {},
     "output_type": "execute_result"
    }
   ],
   "source": [
    "# Apply skew method on the array to obtain observations regarding outliers\n",
    "data.kurt()"
   ]
  },
  {
   "cell_type": "markdown",
   "metadata": {},
   "source": [
    "### Summary of Statistics\n",
    "- The data set includes data for 400 students who applied.\n",
    "- Knowing that the value of admit can only be 1 or 0, the significantly positive skew of ~0.79 and a mean of ~0.32, I can see that the majority of students were not admitted (more values are 0). In fact, the mean suggests ~32% admittance rate.\n",
    "- GRE scores have a mean of ~588, with top 2 quartiles ranging ~220 points, bottom 2 ranging ~360 points and slightly negative skew. This indicates GRE scores tend to be higher than the mean (the distribution is mostly to the right of mean).\n",
    "- GPA have a mean of ~3.4, top 2 quartiles ranging 0.605 points, bottom 2 ranging 1.135 and slightly negative skew. This indicates GPAs tend to be higher than the mean (the distribution is mostly to the right of mean).\n",
    "- Rank can only have values of integers 1 to 4, has a mean of ~2.5 and a skewness that is very slightly positive. This indicates the distribution is mostly symmetric.\n",
    "- All the data have negative kurtosis (of varying degrees), suggesting that, compared to a normal distribution, their tails are shorter and thinner (fewer outliers), the central peak is lower and broader. Admit and rank have the most negative kurtosis, owing to their discrete values."
   ]
  },
  {
   "cell_type": "markdown",
   "metadata": {
    "collapsed": true
   },
   "source": [
    "# Data Distribution with Visualization"
   ]
  },
  {
   "cell_type": "code",
   "execution_count": 137,
   "metadata": {},
   "outputs": [
    {
     "data": {
      "image/png": "[encoded data removed]",
      "text/plain": [
       "<matplotlib.figure.Figure at 0xe165e80>"
      ]
     },
     "metadata": {},
     "output_type": "display_data"
    }
   ],
   "source": [
    "# Apply the hist and show functions to plot and show histograms of the 4 columns of data\n",
    "data.hist();\n",
    "plt.show()"
   ]
  },
  {
   "cell_type": "markdown",
   "metadata": {},
   "source": [
    "The histograms provide information consistent with the statistics, with indications that:\n",
    "- Admit is 0 nearly for two-thirds of the data set\n",
    "- GRE values center around ~600 and have a negative skew\n",
    "- GPA values center around ~3.4 and have a negative skew\n",
    "- Rank has a mostly symmetric distribution\n",
    "- There are relatively few outliers in the data set\n",
    "\n",
    "Additionally, examining the distribution of values, there appear to be no unusual outliers or missing data."
   ]
  },
  {
   "cell_type": "code",
   "execution_count": 138,
   "metadata": {},
   "outputs": [],
   "source": [
    "# divide gre by 1000, to achieve values that are the same order of magnitude\n",
    "# this enables plotting of all data on single pane\n",
    "# note: from this point forward, gre = gre/1000\n",
    "data['gre'] = np.divide(data['gre'],1000.0);"
   ]
  },
  {
   "cell_type": "code",
   "execution_count": 139,
   "metadata": {},
   "outputs": [
    {
     "data": {
      "image/png": "[encoded data removed]",
      "text/plain": [
       "<matplotlib.figure.Figure at 0xe90d710>"
      ]
     },
     "metadata": {},
     "output_type": "display_data"
    }
   ],
   "source": [
    "# Apply the box and show functions to plot and show box plots of the 4 columns of data\n",
    "data.plot(kind='box');\n",
    "plt.show();"
   ]
  },
  {
   "cell_type": "code",
   "execution_count": 140,
   "metadata": {},
   "outputs": [
    {
     "data": {
      "image/png": "[encoded data removed]",
      "text/plain": [
       "<matplotlib.figure.Figure at 0xf1f6940>"
      ]
     },
     "metadata": {},
     "output_type": "display_data"
    }
   ],
   "source": [
    "# Apply Seaborn libraries to plot distribution of data\n",
    "sns.violinplot(data=data);\n",
    "sns.plt.show()"
   ]
  },
  {
   "cell_type": "markdown",
   "metadata": {},
   "source": [
    "The box and violin plots show:\n",
    "- the distinct values of admit; the max and min values are the same as the 2nd and 3rd quartile boundaries in the box plot and the distribution in the violin plot is binary\n",
    "- for gre and gpa: the 2nd and 3rd quartiles are relatively narrow (nearer to the median than max or min) in the box plot and the violin plot distribution has a relatively fat middle, meaning much of the population is in the middle of the values; data skew ever so slightly to higher values (negative skew) in both plots\n",
    "- symmetry and distinct values of the rank data are apparent in the box and violin plots"
   ]
  },
  {
   "cell_type": "code",
   "execution_count": 141,
   "metadata": {},
   "outputs": [
    {
     "data": {
      "image/png": "[encoded data removed]",
      "text/plain": [
       "<matplotlib.figure.Figure at 0xf2fba90>"
      ]
     },
     "metadata": {},
     "output_type": "display_data"
    }
   ],
   "source": [
    "# examine the data on a different scale to see if the perspective changes analysis\n",
    "# note: from this point forward, gre = gre/100\n",
    "data['gre'] = np.multiply(data['gre'],10.0);\n",
    "data.plot(kind='box');\n",
    "plt.show();"
   ]
  },
  {
   "cell_type": "code",
   "execution_count": 142,
   "metadata": {},
   "outputs": [
    {
     "data": {
      "image/png": "[encoded data removed]",
      "text/plain": [
       "<matplotlib.figure.Figure at 0xef36a58>"
      ]
     },
     "metadata": {},
     "output_type": "display_data"
    }
   ],
   "source": [
    "sns.violinplot(data=data);\n",
    "plt.show();"
   ]
  },
  {
   "cell_type": "markdown",
   "metadata": {},
   "source": [
    "The change in scale of the plots does not significantly change the conclusions made previously"
   ]
  },
  {
   "cell_type": "markdown",
   "metadata": {
    "collapsed": true
   },
   "source": [
    "# Correlation Matrix"
   ]
  },
  {
   "cell_type": "code",
   "execution_count": 143,
   "metadata": {},
   "outputs": [
    {
     "data": {
      "text/html": [
       "<div>\n",
       "<style>\n",
       "    .dataframe thead tr:only-child th {\n",
       "        text-align: right;\n",
       "    }\n",
       "\n",
       "    .dataframe thead th {\n",
       "        text-align: left;\n",
       "    }\n",
       "\n",
       "    .dataframe tbody tr th {\n",
       "        vertical-align: top;\n",
       "    }\n",
       "</style>\n",
       "<table border=\"1\" class=\"dataframe\">\n",
       "  <thead>\n",
       "    <tr style=\"text-align: right;\">\n",
       "      <th></th>\n",
       "      <th>admit</th>\n",
       "      <th>gre</th>\n",
       "      <th>gpa</th>\n",
       "      <th>rank</th>\n",
       "    </tr>\n",
       "  </thead>\n",
       "  <tbody>\n",
       "    <tr>\n",
       "      <th>admit</th>\n",
       "      <td>1.000000</td>\n",
       "      <td>0.184434</td>\n",
       "      <td>0.178212</td>\n",
       "      <td>-0.242513</td>\n",
       "    </tr>\n",
       "    <tr>\n",
       "      <th>gre</th>\n",
       "      <td>0.184434</td>\n",
       "      <td>1.000000</td>\n",
       "      <td>0.384266</td>\n",
       "      <td>-0.123447</td>\n",
       "    </tr>\n",
       "    <tr>\n",
       "      <th>gpa</th>\n",
       "      <td>0.178212</td>\n",
       "      <td>0.384266</td>\n",
       "      <td>1.000000</td>\n",
       "      <td>-0.057461</td>\n",
       "    </tr>\n",
       "    <tr>\n",
       "      <th>rank</th>\n",
       "      <td>-0.242513</td>\n",
       "      <td>-0.123447</td>\n",
       "      <td>-0.057461</td>\n",
       "      <td>1.000000</td>\n",
       "    </tr>\n",
       "  </tbody>\n",
       "</table>\n",
       "</div>"
      ],
      "text/plain": [
       "          admit       gre       gpa      rank\n",
       "admit  1.000000  0.184434  0.178212 -0.242513\n",
       "gre    0.184434  1.000000  0.384266 -0.123447\n",
       "gpa    0.178212  0.384266  1.000000 -0.057461\n",
       "rank  -0.242513 -0.123447 -0.057461  1.000000"
      ]
     },
     "execution_count": 143,
     "metadata": {},
     "output_type": "execute_result"
    }
   ],
   "source": [
    "## apply correlation method to view statistical correlation amongst variables\n",
    "data.corr()"
   ]
  },
  {
   "cell_type": "code",
   "execution_count": 144,
   "metadata": {},
   "outputs": [
    {
     "data": {
      "image/png": "[encoded data removed]",
      "text/plain": [
       "<matplotlib.figure.Figure at 0xe099780>"
      ]
     },
     "metadata": {},
     "output_type": "display_data"
    }
   ],
   "source": [
    "## use Seaborn heatmap to visualize statistical correlation amongst variables\n",
    "sns.heatmap(data.corr(), annot=True);\n",
    "plt.show();"
   ]
  },
  {
   "cell_type": "markdown",
   "metadata": {},
   "source": [
    "The heatmap and correlation data shows: \n",
    "- a small positive correlation between admit and gre/gpa and a small negative correlation with rank; meaning with a high gre and gpa, along with a high ranking undergraduate school (the value for rank is lower), a student is more likely to be admitted\n",
    "- there is a strong correlation between gre and gpa; students who score well on gre tend to have high gpa\n",
    "- rank has a negative correlation with other variables, not surprisingly"
   ]
  },
  {
   "cell_type": "markdown",
   "metadata": {},
   "source": [
    "# Issues & Limitations of Sample\n"
   ]
  },
  {
   "cell_type": "markdown",
   "metadata": {
    "collapsed": true
   },
   "source": [
    "While this has been a useful exercise to examine the data set:\n",
    "- as mentioned in Project 1, caution should be considered when using this data as the population of students sampled and the time period of sampling are unknown\n",
    "- there are other factors that are influential in determining admissions decisions than those included in the data set, such as race, household income and state/country of residence\n",
    "\n",
    "It will be difficult to conclude that this sample is representative of a broader or intended population of study.\n",
    "\n",
    "Interestingly, the subject of race, as it applies to college admissions decisions, has been a topic of interest in recent news, as the US Justice Department investigates Harvard University for complaints of discrimination against Asian Americans who applied to Harvard's undergraduates programs."
   ]
  },
  {
   "cell_type": "markdown",
   "metadata": {},
   "source": [
    "# Conclusions"
   ]
  },
  {
   "cell_type": "markdown",
   "metadata": {},
   "source": [
    "The exploratory anaysis provides an understanding of the distribution of the data set and basic information about the potential correlation between variables and the outcome. This will prepare us for selecting and executing an approach to statistically test the hypothesis that the admissions decision (admit) is positively correlated with GRE scores, undergraduate GPA and rank of undergraduate alma mater. "
   ]
  }
 ],
 "metadata": {
  "kernelspec": {
   "display_name": "Python 2",
   "language": "python",
   "name": "python2"
  },
  "language_info": {
   "codemirror_mode": {
    "name": "ipython",
    "version": 2
   },
   "file_extension": ".py",
   "mimetype": "text/x-python",
   "name": "python",
   "nbconvert_exporter": "python",
   "pygments_lexer": "ipython2",
   "version": "2.7.13"
  }
 },
 "nbformat": 4,
 "nbformat_minor": 2
}
