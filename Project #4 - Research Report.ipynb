{
 "cells": [
  {
   "cell_type": "markdown",
   "metadata": {},
   "source": [
    "# Project 4"
   ]
  },
  {
   "cell_type": "code",
   "execution_count": 15,
   "metadata": {
    "collapsed": true
   },
   "outputs": [],
   "source": [
    "#### Initializing some libraries to be used in this report\n",
    "from IPython.display import Image"
   ]
  },
  {
   "cell_type": "markdown",
   "metadata": {},
   "source": [
    "Sean/Neha: I am having trouble with seeing the image output - I get a black box with an [x] in it. I'll stop by and ask questions before/during class on Weds about this - am I using the correct notation?"
   ]
  },
  {
   "cell_type": "markdown",
   "metadata": {},
   "source": [
    "### Executive Summary"
   ]
  },
  {
   "cell_type": "markdown",
   "metadata": {},
   "source": [
    "While graduate school applicants may have worked to increase their GPAs in undergraduate studies and boost their GRE scores, our findings show that the greatest predictor of admittance to graduate school is the undergraduate institution prestige rank. This information may be more useful to high school graduates looking to attend undergraduate studies and making decisions about where to attend than the current graduate school applicant. "
   ]
  },
  {
   "cell_type": "markdown",
   "metadata": {},
   "source": [
    "## Introduction\n",
    "The goal of the study is to examine the various factors that may influence admission into graduate school. \n",
    "\n",
    "The variables examined are: (the variable names used in the data set are in 'quotes')\n",
    "- 'gre' is GRE (Graduate Record Exam) score\n",
    "- 'gpa' is Grade Point Average at the student's undergaduate alma mater\n",
    "- 'rank' is the rank of an applicant's undergraduate alma mater, with 1 being the highest and 4 as the lowest. This is a numeric representation of the prestige of the undergraduate institution.\n",
    "\n",
    "The response variable, 'admit', indicates whether or not a candidate was admitted (admit =1) our not (admit= 0).\n",
    "\n",
    "The dataset is available from the General Assembly github library for Data Science students: [Admissions.csv](https://github.com/ga-students/DAT-NYC-7.24.17/blob/master/projects/unit-projects/project-1/assets/admissions.csv)"
   ]
  },
  {
   "cell_type": "markdown",
   "metadata": {},
   "source": [
    "### Methods and Models\n",
    "\n",
    "An exploratory analysis was undertaken to examine basic characteristics of the data set using statistical and visualization methods. This provided early insight into the range and variability of each data element, the quality of data and the study population.\n",
    "\n",
    "The exploratory analysis included:\n",
    "- Basic statistics on each variable: count, mean, standard deviation, min, quartiles, max, skew, kurtosis\n",
    "- Visualization of the data distribution using histograms, box plots and violin plots\n",
    "- Examination of correlation amongs the variables\n",
    "\n",
    "A logistic regression was applied using the Scikit Learn and Stats Model libraries. The results were interpreted for odds of admission for students with different GRE, GPA and undergraduate school rank, the model is used to predict admission for the sample population and the probabilities of admission were plotted as a function of GRE and GPA, for each undergraduate school rank.\n"
   ]
  },
  {
   "cell_type": "markdown",
   "metadata": {},
   "source": [
    "### Limitations, risks and assumptions\n",
    "- Limitation: this data set does not have a timeframe defined. Therefore, we will assume the data represents a cohort for a timeframe that is appropriate for this study.\n",
    "- Risk: there are other factors that are more influential in determining admissions decisions than those included in the data set, such as race, household income and state/country of residence. The study may show some correlation, but the accuracy may be improved by including other factors in a subsequent study. \n",
    "- Assumption: the population for which the data has been collected is representative of the population of applicants of interest.\n",
    "- Limitation: the predictive proabilities were run on the same sample as training data; ideally we would run prediction on a separate set of data."
   ]
  },
  {
   "cell_type": "markdown",
   "metadata": {
    "collapsed": true
   },
   "source": [
    "### Exploratory data analysis overview with visualizations and statistical analysis"
   ]
  },
  {
   "cell_type": "markdown",
   "metadata": {},
   "source": [
    "| Not Admitted | Admitted\n",
    "---| ---|---\n",
    "count |273|127\n",
    "GPA | 3.34(0.38)  | 3.49(0.37)\n",
    "GRE |573(116) | 619(109)\n",
    "Prestige 1 | frequency (46%) | frequency (54%)\n",
    "Prestige 2 | frequency (64%) | frequency (36%)\n",
    "Prestige 3 |frequency (77%) | frequency (23%)\n",
    "Prestige 4 |frequency (82%) | frequency (18%)"
   ]
  },
  {
   "cell_type": "markdown",
   "metadata": {},
   "source": [
    "On average, students with higher GPA and GRE scores are admitted at a greater rate, but there is a relatively large overlap between the distributions of standardized scores for the admitted and rejected students. The ranking of prestige of the undergraduate institution has an observed relationship with admission rate - the lower the rank (higher the number representing the rank, 4 being the lowest), the lower the admittance rate."
   ]
  },
  {
   "cell_type": "markdown",
   "metadata": {},
   "source": [
    "### Results & Conclusions"
   ]
  },
  {
   "cell_type": "markdown",
   "metadata": {},
   "source": [
    "Stats Model Odds Ratio"
   ]
  },
  {
   "cell_type": "markdown",
   "metadata": {},
   "source": [
    "var | OR\n",
    "---| ---\n",
    "gre | 1.001368\n",
    "gpa | 0.876073\n",
    "prestige_2.0 | 0.38434\n",
    "prestige_3.0 | 0.21491\n",
    "prestige_4.0 | 0.15413"
   ]
  },
  {
   "cell_type": "markdown",
   "metadata": {},
   "source": [
    "Predictive Proabilities: 4 students with perfect GRE and GPA, but different undergraduate alma mater rank"
   ]
  },
  {
   "cell_type": "markdown",
   "metadata": {},
   "source": [
    "|gre|gpa|prestige|intercept|prestige_2.0|prestige_3.0|prestige_4.0|admit_pred\n",
    "---|---|---|---|---|---|---| ---|---\n",
    "396 | 800.0 | 4.000000    |   1.0    |    1.0|             0|           0|   0  |  0.637399  \n",
    "397 | 800.0 | 4.000000    |   2.0    |    1.0|             1|           0|   0  |  0.403204\n",
    "398 | 800.0 | 4.000000    |   3.0    |    1.0|             0|           1|   0  |  0.274202\n",
    "399 | 800.0 | 4.000000    |   4.0    |    1.0|             0|           0|   1  |  0.213184 "
   ]
  },
  {
   "cell_type": "markdown",
   "metadata": {},
   "source": [
    "An examination of odds ratios and predictive probabilities provides strong indication that students with higher prestige undergraduate schools have a higher probability of admission to the school than those with lower ranking undergraduate alma mater. While GPA and GRE scores have some influence on admittance rate, the strongest indicator of admissions, assuming the students meet minimum requirements for standardized score, is the undergraduate prestige ranking - as the charts below show, a student from a first-rank school with a low GPA and low GRE score would still have a higher chance of being admitted than cohorts from undergraduate schools ranked 2,3 or 4."
   ]
  },
  {
   "cell_type": "code",
   "execution_count": 21,
   "metadata": {},
   "outputs": [
    {
     "data": {
      "text/html": [
       "<img src=\"https://github.com/michaelcwong/GADataScience2017Summer/blob/master/images/isolate.png\"/>"
      ],
      "text/plain": [
       "<IPython.core.display.Image object>"
      ]
     },
     "execution_count": 21,
     "metadata": {},
     "output_type": "execute_result"
    }
   ],
   "source": [
    "Image(url='https://github.com/michaelcwong/GADataScience2017Summer/blob/master/images/isolate.png')"
   ]
  },
  {
   "cell_type": "markdown",
   "metadata": {},
   "source": [
    "### Potential Improvements"
   ]
  },
  {
   "cell_type": "markdown",
   "metadata": {},
   "source": [
    "The data could be collected with indication of a time period and with identifiers for the school - more information about the data set would aid in understanding the applicability of results.\n",
    "\n",
    "The subject of race, as it applies to college admissions decisions, has been a topic of interest in recent news, as the US Justice Department investigates Harvard University for complaints of discrimination against Asian Americans who applied to Harvard's undergraduates programs. It would be interesting to apply this model, but include also the race of the applicant, to determine if race is a factor in graduate admission rates."
   ]
  }
 ],
 "metadata": {
  "kernelspec": {
   "display_name": "Python 2",
   "language": "python",
   "name": "python2"
  },
  "language_info": {
   "codemirror_mode": {
    "name": "ipython",
    "version": 2
   },
   "file_extension": ".py",
   "mimetype": "text/x-python",
   "name": "python",
   "nbconvert_exporter": "python",
   "pygments_lexer": "ipython2",
   "version": "2.7.13"
  }
 },
 "nbformat": 4,
 "nbformat_minor": 1
}
