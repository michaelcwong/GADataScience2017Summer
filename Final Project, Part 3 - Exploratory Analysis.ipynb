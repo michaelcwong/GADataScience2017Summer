{
 "cells": [
  {
   "cell_type": "markdown",
   "metadata": {},
   "source": [
    "# Introduction"
   ]
  },
  {
   "cell_type": "markdown",
   "metadata": {},
   "source": [
    "In this phase of the project, an exploratory analysis will be conducted to provide insight regarding the Census data used for the study. The ability or limitation of the data set to support the hypothesis will be evaluated. As a reminder, the hypothesis is that house prices and rent can be predicted by their response to changes in the housing market and socioeconomic trends.\n",
    "\n",
    "The independent variables of interest are: (1) Home value and (2) Contractual rent. The dependent variables of interest are: \n",
    "- Number of housing units in the structure\n",
    "- Vacancy rate\n",
    "- Household income\n",
    "- Employment status\n",
    "- Educational attainment\n",
    "\n",
    "Race will be included as a dependent variable, out of curiosity on its impact on the independent variables.\n",
    "\n",
    "The data will be examined across the most recent years of available data from the Census and American Community Survey: 2010 through 2015 and focus will be placed on 3 cities: Cleveland, Boston and Brooklyn. PUMA (Public Use Microdata Area) codes are the most detailed geographic identifier in the data set; PUMA codes will be used to aggregate data for analysis in this study. \n",
    "\n",
    "Attempts to access the data using API connections were unsuccessful. As an alternative, the data is downloaded from the [\"IPUMS website\"](https://usa.ipums.org/usa/)."
   ]
  },
  {
   "cell_type": "code",
   "execution_count": 132,
   "metadata": {
    "collapsed": true
   },
   "outputs": [],
   "source": [
    "# Import necessary packages for analysis\n",
    "import pandas as pd\n",
    "import numpy as np\n",
    "import matplotlib.pyplot as plt\n",
    "import seaborn as sns\n",
    "\n",
    "# Set file name to load, containing the data to be analyzed\n",
    "file_name = r\"C:\\Users\\michael.wong\\Desktop\\GADataScience\\Final Project\\usa_00008.dat\"\n",
    "\n",
    "# The data set used in this analysis was limited to 2015, due to the large file size across multiple years. \n",
    "# It is assumed the range of values is similar across years of the surveys."
   ]
  },
  {
   "cell_type": "code",
   "execution_count": 133,
   "metadata": {
    "collapsed": true
   },
   "outputs": [],
   "source": [
    "# nrows = 100"
   ]
  },
  {
   "cell_type": "code",
   "execution_count": 134,
   "metadata": {},
   "outputs": [],
   "source": [
    "# The file is downloaded in fixed width format\n",
    "# The specifications provide the start and end position for each variable and the variable name\n",
    "colspecs = [(0,4),(4,6),(6,14),(14,16),(16,26),(26,28),(28,30),(30,34),(34,37),(37,41),(41,46),(46,50),(50,51),\n",
    "            (51,55),(55,59),(59,66),(66,73),(73,74),(74,76),(76,77),(77,78),(78,79),(79,80),(80,81),(81,82),\n",
    "            (82,86),(86,96),(96,97),(97,100),(100,102),(102,105),(105,106),(106,108),(108,109),(109,113),(113,116)]\n",
    "names = ['YEAR','DATANUM','SERIAL','NUMPREC','HHWT','STATEICP','STATEFIP','COUNTY','COUNTYFIPS','CITY',\n",
    "         'PUMA','CPUMA0010','GQ','RENT','RENTGRS','HHINCOME','VALUEH','VACANCY','UNITSSTR','QRENT','QRENTGRS',\n",
    "         'QVALUEH','QVACANCY','QUNITSST','QHHINCOME','PERNUM','PERWT','RACE','RACED','EDUC','EDUCD','EMPSTAT',\n",
    "         'EMPSTATD','LABFORCE','OCC2010','IND1990']\n",
    "\n",
    "# Some extra variables, in addition to those intended for analysis have been included in case they may be useful later"
   ]
  },
  {
   "cell_type": "code",
   "execution_count": 135,
   "metadata": {},
   "outputs": [],
   "source": [
    "data = pd.read_fwf(file_name, header=None, colspecs=colspecs, names=names)\n",
    "#nrows=nrows removed"
   ]
  },
  {
   "cell_type": "code",
   "execution_count": 136,
   "metadata": {
    "scrolled": true
   },
   "outputs": [
    {
     "name": "stdout",
     "output_type": "stream",
     "text": [
      "YEAR             2015\n",
      "DATANUM             1\n",
      "SERIAL              1\n",
      "NUMPREC             4\n",
      "HHWT             4800\n",
      "STATEICP           41\n",
      "STATEFIP            1\n",
      "COUNTY            970\n",
      "COUNTYFIPS         97\n",
      "CITY                0\n",
      "PUMA             2701\n",
      "CPUMA0010          18\n",
      "GQ                  1\n",
      "RENT                0\n",
      "RENTGRS             0\n",
      "HHINCOME        52450\n",
      "VALUEH        9999999\n",
      "VACANCY             0\n",
      "UNITSSTR            3\n",
      "QRENT               0\n",
      "QRENTGRS            0\n",
      "QVALUEH             0\n",
      "QVACANCY            0\n",
      "QUNITSST            4\n",
      "QHHINCOME           4\n",
      "PERNUM              1\n",
      "PERWT            4800\n",
      "RACE                2\n",
      "RACED             200\n",
      "EDUC                5\n",
      "EDUCD              50\n",
      "EMPSTAT             1\n",
      "EMPSTATD           10\n",
      "LABFORCE            2\n",
      "OCC2010          2040\n",
      "IND1990           880\n",
      "Name: 0, dtype: int64\n"
     ]
    }
   ],
   "source": [
    "# A quick examination of the first row of data to check the fixed width columns have been interpreted correctly\n",
    "a=data.iloc[0,]\n",
    "print a"
   ]
  },
  {
   "cell_type": "code",
   "execution_count": 137,
   "metadata": {},
   "outputs": [],
   "source": [
    "# Select columns of interest for analysis\n",
    "data_primary=data[['YEAR','NUMPREC','RENT','VALUEH','VACANCY','EMPSTAT','HHINCOME',\n",
    "                   'EDUC','RACE','UNITSSTR','DATANUM','SERIAL','PERNUM','PUMA']]"
   ]
  },
  {
   "cell_type": "code",
   "execution_count": 138,
   "metadata": {},
   "outputs": [
    {
     "data": {
      "text/html": [
       "<div>\n",
       "<style>\n",
       "    .dataframe thead tr:only-child th {\n",
       "        text-align: right;\n",
       "    }\n",
       "\n",
       "    .dataframe thead th {\n",
       "        text-align: left;\n",
       "    }\n",
       "\n",
       "    .dataframe tbody tr th {\n",
       "        vertical-align: top;\n",
       "    }\n",
       "</style>\n",
       "<table border=\"1\" class=\"dataframe\">\n",
       "  <thead>\n",
       "    <tr style=\"text-align: right;\">\n",
       "      <th></th>\n",
       "      <th>YEAR</th>\n",
       "      <th>NUMPREC</th>\n",
       "      <th>RENT</th>\n",
       "      <th>VALUEH</th>\n",
       "      <th>VACANCY</th>\n",
       "      <th>EMPSTAT</th>\n",
       "      <th>HHINCOME</th>\n",
       "      <th>EDUC</th>\n",
       "      <th>RACE</th>\n",
       "      <th>UNITSSTR</th>\n",
       "      <th>DATANUM</th>\n",
       "      <th>SERIAL</th>\n",
       "      <th>PERNUM</th>\n",
       "      <th>PUMA</th>\n",
       "    </tr>\n",
       "  </thead>\n",
       "  <tbody>\n",
       "    <tr>\n",
       "      <th>count</th>\n",
       "      <td>3147005.0</td>\n",
       "      <td>3.147005e+06</td>\n",
       "      <td>3.147005e+06</td>\n",
       "      <td>3.147005e+06</td>\n",
       "      <td>3147005.0</td>\n",
       "      <td>3.147005e+06</td>\n",
       "      <td>3.147005e+06</td>\n",
       "      <td>3.147005e+06</td>\n",
       "      <td>3.147005e+06</td>\n",
       "      <td>3.147005e+06</td>\n",
       "      <td>3147005.0</td>\n",
       "      <td>3.147005e+06</td>\n",
       "      <td>3.147005e+06</td>\n",
       "      <td>3.147005e+06</td>\n",
       "    </tr>\n",
       "    <tr>\n",
       "      <th>mean</th>\n",
       "      <td>2015.0</td>\n",
       "      <td>3.168544e+00</td>\n",
       "      <td>2.501390e+02</td>\n",
       "      <td>3.419357e+06</td>\n",
       "      <td>0.0</td>\n",
       "      <td>1.506561e+00</td>\n",
       "      <td>5.600916e+05</td>\n",
       "      <td>6.050968e+00</td>\n",
       "      <td>1.786637e+00</td>\n",
       "      <td>3.504605e+00</td>\n",
       "      <td>1.0</td>\n",
       "      <td>6.836987e+05</td>\n",
       "      <td>2.084272e+00</td>\n",
       "      <td>4.616182e+03</td>\n",
       "    </tr>\n",
       "    <tr>\n",
       "      <th>std</th>\n",
       "      <td>0.0</td>\n",
       "      <td>1.769318e+00</td>\n",
       "      <td>5.218459e+02</td>\n",
       "      <td>4.546492e+06</td>\n",
       "      <td>0.0</td>\n",
       "      <td>1.129809e+00</td>\n",
       "      <td>2.104676e+06</td>\n",
       "      <td>3.230814e+00</td>\n",
       "      <td>1.846057e+00</td>\n",
       "      <td>2.003032e+00</td>\n",
       "      <td>0.0</td>\n",
       "      <td>4.005719e+05</td>\n",
       "      <td>1.340448e+00</td>\n",
       "      <td>9.323847e+03</td>\n",
       "    </tr>\n",
       "    <tr>\n",
       "      <th>min</th>\n",
       "      <td>2015.0</td>\n",
       "      <td>1.000000e+00</td>\n",
       "      <td>0.000000e+00</td>\n",
       "      <td>1.000000e+03</td>\n",
       "      <td>0.0</td>\n",
       "      <td>0.000000e+00</td>\n",
       "      <td>-1.640000e+04</td>\n",
       "      <td>0.000000e+00</td>\n",
       "      <td>1.000000e+00</td>\n",
       "      <td>0.000000e+00</td>\n",
       "      <td>1.0</td>\n",
       "      <td>1.000000e+00</td>\n",
       "      <td>1.000000e+00</td>\n",
       "      <td>1.000000e+02</td>\n",
       "    </tr>\n",
       "    <tr>\n",
       "      <th>25%</th>\n",
       "      <td>2015.0</td>\n",
       "      <td>2.000000e+00</td>\n",
       "      <td>0.000000e+00</td>\n",
       "      <td>1.500000e+05</td>\n",
       "      <td>0.0</td>\n",
       "      <td>1.000000e+00</td>\n",
       "      <td>3.760000e+04</td>\n",
       "      <td>4.000000e+00</td>\n",
       "      <td>1.000000e+00</td>\n",
       "      <td>3.000000e+00</td>\n",
       "      <td>1.0</td>\n",
       "      <td>3.332280e+05</td>\n",
       "      <td>1.000000e+00</td>\n",
       "      <td>9.000000e+02</td>\n",
       "    </tr>\n",
       "    <tr>\n",
       "      <th>50%</th>\n",
       "      <td>2015.0</td>\n",
       "      <td>3.000000e+00</td>\n",
       "      <td>0.000000e+00</td>\n",
       "      <td>3.400000e+05</td>\n",
       "      <td>0.0</td>\n",
       "      <td>1.000000e+00</td>\n",
       "      <td>7.123000e+04</td>\n",
       "      <td>6.000000e+00</td>\n",
       "      <td>1.000000e+00</td>\n",
       "      <td>3.000000e+00</td>\n",
       "      <td>1.0</td>\n",
       "      <td>6.838670e+05</td>\n",
       "      <td>2.000000e+00</td>\n",
       "      <td>2.200000e+03</td>\n",
       "    </tr>\n",
       "    <tr>\n",
       "      <th>75%</th>\n",
       "      <td>2015.0</td>\n",
       "      <td>4.000000e+00</td>\n",
       "      <td>1.900000e+02</td>\n",
       "      <td>9.999999e+06</td>\n",
       "      <td>0.0</td>\n",
       "      <td>3.000000e+00</td>\n",
       "      <td>1.250000e+05</td>\n",
       "      <td>8.000000e+00</td>\n",
       "      <td>1.000000e+00</td>\n",
       "      <td>3.000000e+00</td>\n",
       "      <td>1.0</td>\n",
       "      <td>1.032830e+06</td>\n",
       "      <td>3.000000e+00</td>\n",
       "      <td>4.101000e+03</td>\n",
       "    </tr>\n",
       "    <tr>\n",
       "      <th>max</th>\n",
       "      <td>2015.0</td>\n",
       "      <td>2.000000e+01</td>\n",
       "      <td>4.000000e+03</td>\n",
       "      <td>9.999999e+06</td>\n",
       "      <td>0.0</td>\n",
       "      <td>3.000000e+00</td>\n",
       "      <td>9.999999e+06</td>\n",
       "      <td>1.100000e+01</td>\n",
       "      <td>9.000000e+00</td>\n",
       "      <td>1.000000e+01</td>\n",
       "      <td>1.0</td>\n",
       "      <td>1.375481e+06</td>\n",
       "      <td>2.000000e+01</td>\n",
       "      <td>7.030100e+04</td>\n",
       "    </tr>\n",
       "  </tbody>\n",
       "</table>\n",
       "</div>"
      ],
      "text/plain": [
       "            YEAR       NUMPREC          RENT        VALUEH    VACANCY  \\\n",
       "count  3147005.0  3.147005e+06  3.147005e+06  3.147005e+06  3147005.0   \n",
       "mean      2015.0  3.168544e+00  2.501390e+02  3.419357e+06        0.0   \n",
       "std          0.0  1.769318e+00  5.218459e+02  4.546492e+06        0.0   \n",
       "min       2015.0  1.000000e+00  0.000000e+00  1.000000e+03        0.0   \n",
       "25%       2015.0  2.000000e+00  0.000000e+00  1.500000e+05        0.0   \n",
       "50%       2015.0  3.000000e+00  0.000000e+00  3.400000e+05        0.0   \n",
       "75%       2015.0  4.000000e+00  1.900000e+02  9.999999e+06        0.0   \n",
       "max       2015.0  2.000000e+01  4.000000e+03  9.999999e+06        0.0   \n",
       "\n",
       "            EMPSTAT      HHINCOME          EDUC          RACE      UNITSSTR  \\\n",
       "count  3.147005e+06  3.147005e+06  3.147005e+06  3.147005e+06  3.147005e+06   \n",
       "mean   1.506561e+00  5.600916e+05  6.050968e+00  1.786637e+00  3.504605e+00   \n",
       "std    1.129809e+00  2.104676e+06  3.230814e+00  1.846057e+00  2.003032e+00   \n",
       "min    0.000000e+00 -1.640000e+04  0.000000e+00  1.000000e+00  0.000000e+00   \n",
       "25%    1.000000e+00  3.760000e+04  4.000000e+00  1.000000e+00  3.000000e+00   \n",
       "50%    1.000000e+00  7.123000e+04  6.000000e+00  1.000000e+00  3.000000e+00   \n",
       "75%    3.000000e+00  1.250000e+05  8.000000e+00  1.000000e+00  3.000000e+00   \n",
       "max    3.000000e+00  9.999999e+06  1.100000e+01  9.000000e+00  1.000000e+01   \n",
       "\n",
       "         DATANUM        SERIAL        PERNUM          PUMA  \n",
       "count  3147005.0  3.147005e+06  3.147005e+06  3.147005e+06  \n",
       "mean         1.0  6.836987e+05  2.084272e+00  4.616182e+03  \n",
       "std          0.0  4.005719e+05  1.340448e+00  9.323847e+03  \n",
       "min          1.0  1.000000e+00  1.000000e+00  1.000000e+02  \n",
       "25%          1.0  3.332280e+05  1.000000e+00  9.000000e+02  \n",
       "50%          1.0  6.838670e+05  2.000000e+00  2.200000e+03  \n",
       "75%          1.0  1.032830e+06  3.000000e+00  4.101000e+03  \n",
       "max          1.0  1.375481e+06  2.000000e+01  7.030100e+04  "
      ]
     },
     "execution_count": 138,
     "metadata": {},
     "output_type": "execute_result"
    }
   ],
   "source": [
    "data_primary.describe()"
   ]
  },
  {
   "cell_type": "markdown",
   "metadata": {},
   "source": [
    "### Create reference tables to map index keys to meaninful text"
   ]
  },
  {
   "cell_type": "code",
   "execution_count": 139,
   "metadata": {
    "collapsed": true
   },
   "outputs": [],
   "source": [
    "VACANCY = {\n",
    "    0:\"N/A\",\n",
    "    1:\"For rent or sale\",\n",
    "    2:\"For sale only\",\n",
    "    3:\"Rented or sold but not (yet) occupied\",\n",
    "    4:\"For seasonal, recreational or other occasional use\",\n",
    "    5:\"For occasional use\",\n",
    "    6:\"For seasonal use\",\n",
    "    7:\"For migrant farm workers\",\n",
    "    8:\"For seasonal use or migratory\",\n",
    "    9:\"Other vacant\"}"
   ]
  },
  {
   "cell_type": "code",
   "execution_count": 140,
   "metadata": {
    "collapsed": true
   },
   "outputs": [],
   "source": [
    "UNITSSTR ={\n",
    "    0:\"N/A\",\n",
    "    1:\"Mobile home or trailer\",\n",
    "    2:\"Boat, tent, van, other\",\n",
    "    3:\"1-family house, detached\",\n",
    "    4:\"1-family house, attached\",\n",
    "    5:\"2-family building\",\n",
    "    6:\"3-4 family building\",\n",
    "    7:\"5-9 family building\",\n",
    "    8:\"10-19 family building\",\n",
    "    9:\"20-49 family building\",\n",
    "    10:\"50+ family building\"}"
   ]
  },
  {
   "cell_type": "code",
   "execution_count": 141,
   "metadata": {
    "collapsed": true
   },
   "outputs": [],
   "source": [
    "RACE = {\n",
    "    1:\"White\",\n",
    "    2:\"Black/African American/Negro\",\n",
    "    3:\"American Indian or Alaska Native\",\n",
    "    4:\"Chinese\",\n",
    "    5:\"Japanese\",\n",
    "    6:\"Other Asian or Pacific Islander\",\n",
    "    7:\"Other race, nec\",\n",
    "    8:\"Two major races\",\n",
    "    9:\"Three or more major races\"}"
   ]
  },
  {
   "cell_type": "code",
   "execution_count": 142,
   "metadata": {
    "collapsed": true
   },
   "outputs": [],
   "source": [
    "EDUC={\n",
    "    0:\"N/A or no schooling\",\n",
    "    1:\"Nursery school to grade 4\",\n",
    "    2:\"Grade 5, 6, 7, or 8\",\n",
    "    3:\"Grade 9\",\n",
    "    4:\"Grade 10\",\n",
    "    5:\"Grade 11\",\n",
    "    6:\"Grade 12\",\n",
    "    7:\"1 year of college\",\n",
    "    8:\"2 years of college\",\n",
    "    9:\"3 years of college\",\n",
    "    10:\"4 years of college\",\n",
    "    11:\"5+ years of college\"}"
   ]
  },
  {
   "cell_type": "code",
   "execution_count": 143,
   "metadata": {
    "collapsed": true
   },
   "outputs": [],
   "source": [
    "EMPSTAT ={\n",
    "    0:\"N/A\",\n",
    "    1:\"Employed\",\n",
    "    2:\"Unemployed\",\n",
    "    3:\"Not in labor force\"}"
   ]
  },
  {
   "cell_type": "code",
   "execution_count": 144,
   "metadata": {},
   "outputs": [],
   "source": [
    "# Map index keys and store mapped values\n",
    "dp=data_primary.replace({'VACANCY': VACANCY,'UNITSSTR': UNITSSTR, 'RACE': RACE,'EDUC': EDUC,'EMPSTAT': EMPSTAT})"
   ]
  },
  {
   "cell_type": "code",
   "execution_count": 145,
   "metadata": {},
   "outputs": [
    {
     "data": {
      "text/html": [
       "<div>\n",
       "<style>\n",
       "    .dataframe thead tr:only-child th {\n",
       "        text-align: right;\n",
       "    }\n",
       "\n",
       "    .dataframe thead th {\n",
       "        text-align: left;\n",
       "    }\n",
       "\n",
       "    .dataframe tbody tr th {\n",
       "        vertical-align: top;\n",
       "    }\n",
       "</style>\n",
       "<table border=\"1\" class=\"dataframe\">\n",
       "  <thead>\n",
       "    <tr style=\"text-align: right;\">\n",
       "      <th></th>\n",
       "      <th>YEAR</th>\n",
       "      <th>NUMPREC</th>\n",
       "      <th>RENT</th>\n",
       "      <th>VALUEH</th>\n",
       "      <th>VACANCY</th>\n",
       "      <th>EMPSTAT</th>\n",
       "      <th>HHINCOME</th>\n",
       "      <th>EDUC</th>\n",
       "      <th>RACE</th>\n",
       "      <th>UNITSSTR</th>\n",
       "      <th>DATANUM</th>\n",
       "      <th>SERIAL</th>\n",
       "      <th>PERNUM</th>\n",
       "      <th>PUMA</th>\n",
       "    </tr>\n",
       "  </thead>\n",
       "  <tbody>\n",
       "    <tr>\n",
       "      <th>0</th>\n",
       "      <td>2015</td>\n",
       "      <td>4</td>\n",
       "      <td>0</td>\n",
       "      <td>9999999</td>\n",
       "      <td>N/A</td>\n",
       "      <td>Employed</td>\n",
       "      <td>52450</td>\n",
       "      <td>Grade 11</td>\n",
       "      <td>Black/African American/Negro</td>\n",
       "      <td>1-family house, detached</td>\n",
       "      <td>1</td>\n",
       "      <td>1</td>\n",
       "      <td>1</td>\n",
       "      <td>2701</td>\n",
       "    </tr>\n",
       "    <tr>\n",
       "      <th>1</th>\n",
       "      <td>2015</td>\n",
       "      <td>4</td>\n",
       "      <td>0</td>\n",
       "      <td>9999999</td>\n",
       "      <td>N/A</td>\n",
       "      <td>Not in labor force</td>\n",
       "      <td>52450</td>\n",
       "      <td>1 year of college</td>\n",
       "      <td>Black/African American/Negro</td>\n",
       "      <td>1-family house, detached</td>\n",
       "      <td>1</td>\n",
       "      <td>1</td>\n",
       "      <td>2</td>\n",
       "      <td>2701</td>\n",
       "    </tr>\n",
       "    <tr>\n",
       "      <th>2</th>\n",
       "      <td>2015</td>\n",
       "      <td>4</td>\n",
       "      <td>0</td>\n",
       "      <td>9999999</td>\n",
       "      <td>N/A</td>\n",
       "      <td>N/A</td>\n",
       "      <td>52450</td>\n",
       "      <td>Nursery school to grade 4</td>\n",
       "      <td>Black/African American/Negro</td>\n",
       "      <td>1-family house, detached</td>\n",
       "      <td>1</td>\n",
       "      <td>1</td>\n",
       "      <td>3</td>\n",
       "      <td>2701</td>\n",
       "    </tr>\n",
       "    <tr>\n",
       "      <th>3</th>\n",
       "      <td>2015</td>\n",
       "      <td>4</td>\n",
       "      <td>0</td>\n",
       "      <td>9999999</td>\n",
       "      <td>N/A</td>\n",
       "      <td>Employed</td>\n",
       "      <td>52450</td>\n",
       "      <td>1 year of college</td>\n",
       "      <td>Black/African American/Negro</td>\n",
       "      <td>1-family house, detached</td>\n",
       "      <td>1</td>\n",
       "      <td>1</td>\n",
       "      <td>4</td>\n",
       "      <td>2701</td>\n",
       "    </tr>\n",
       "    <tr>\n",
       "      <th>4</th>\n",
       "      <td>2015</td>\n",
       "      <td>1</td>\n",
       "      <td>210</td>\n",
       "      <td>9999999</td>\n",
       "      <td>N/A</td>\n",
       "      <td>Not in labor force</td>\n",
       "      <td>8800</td>\n",
       "      <td>Grade 5, 6, 7, or 8</td>\n",
       "      <td>Two major races</td>\n",
       "      <td>2-family building</td>\n",
       "      <td>1</td>\n",
       "      <td>2</td>\n",
       "      <td>1</td>\n",
       "      <td>1000</td>\n",
       "    </tr>\n",
       "  </tbody>\n",
       "</table>\n",
       "</div>"
      ],
      "text/plain": [
       "   YEAR  NUMPREC  RENT   VALUEH VACANCY             EMPSTAT  HHINCOME  \\\n",
       "0  2015        4     0  9999999     N/A            Employed     52450   \n",
       "1  2015        4     0  9999999     N/A  Not in labor force     52450   \n",
       "2  2015        4     0  9999999     N/A                 N/A     52450   \n",
       "3  2015        4     0  9999999     N/A            Employed     52450   \n",
       "4  2015        1   210  9999999     N/A  Not in labor force      8800   \n",
       "\n",
       "                        EDUC                          RACE  \\\n",
       "0                   Grade 11  Black/African American/Negro   \n",
       "1          1 year of college  Black/African American/Negro   \n",
       "2  Nursery school to grade 4  Black/African American/Negro   \n",
       "3          1 year of college  Black/African American/Negro   \n",
       "4        Grade 5, 6, 7, or 8               Two major races   \n",
       "\n",
       "                   UNITSSTR  DATANUM  SERIAL  PERNUM  PUMA  \n",
       "0  1-family house, detached        1       1       1  2701  \n",
       "1  1-family house, detached        1       1       2  2701  \n",
       "2  1-family house, detached        1       1       3  2701  \n",
       "3  1-family house, detached        1       1       4  2701  \n",
       "4         2-family building        1       2       1  1000  "
      ]
     },
     "execution_count": 145,
     "metadata": {},
     "output_type": "execute_result"
    }
   ],
   "source": [
    "dp.head()"
   ]
  },
  {
   "cell_type": "markdown",
   "metadata": {},
   "source": [
    "The continuous variables are: \n",
    "- RENT (contractual rent)\n",
    "- VALUEH (home value)\n",
    "- HHINCOME (household income)\n",
    "\n",
    "### RENT\n",
    "There are a significant number of '0's in the data (~75%), indicating lack of response for the household (\"N/A\"). Of the responding households, ~15% pay less than 500, ~45% pay between 500 and 1000, 35% pay between 1000 and 2000 and the remaining ~5% pay over 2000. However, given the scarcity of responses - I will have to identify a separate source of rent data, possibly Zillow. An examination of the full set of responses across 2010-15 may provide more samples on which to train and test. Whether this is sufficient will be discovered in later phases. Alternatively, the study may be limited to home value for the current effort.\n",
    "\n",
    "### VALUEH\n",
    "One third of responses were '9999999', the \"N/A\" value for this data; most likely because most homeowners may not know or want to disclose the value of their home. Of the valid responses, more than half of homes were estimated to be 200k or less, more than a quarter were 200k to 400k and the remaining (~20%) were valued above 400k. This distribution will likely change significantly in urban areas where home appreciation has outpaced that of more rural areas. \n",
    "\n",
    "### HHINCOME\n",
    "Only 5% of responses were '9999999', the \"N/A\" value for this data. The remaining data may be used as an indicator of home value and rent. The majority or responding households have an income of less than 100,000 dollars. \n",
    "\n",
    "All three variables show high degree of skewness and VALUEH and HHINCOME also show a high degree of kurtosis. All values are skewed toward the lower end of values, with a long tail toward the higher end of values. VALUEH and HHINCOME have very skinny, peaked distribution. This means that for homeowners (households) in the sample population, the majority of homes and incomes are very similar in nature, where most people make similar incomes and buy similar value homes. Rent appears to vary more, with less \"peaky\" distribution and more values in lower and higher end of the markets. \n",
    "\n",
    "Scatterplots provide a similar outcome, where the majority of homeowners are cluster (with dots overlapping to a high degree) in the left hand corner of the plot.\n",
    "\n",
    "This means that there are likely to be a fair number of households who make the same income, but that their choice of rent determines whether they are saving money or just getting by. This data will be interesting to see when we drill down into the three specific urban areas and specific neighborhoods."
   ]
  },
  {
   "cell_type": "code",
   "execution_count": 194,
   "metadata": {},
   "outputs": [
    {
     "data": {
      "text/plain": [
       "(-4.001, 160.0]     2355714\n",
       "(640.0, 800.0]       138236\n",
       "(480.0, 640.0]       117953\n",
       "(800.0, 960.0]        94563\n",
       "(960.0, 1120.0]       81566\n",
       "(320.0, 480.0]        76114\n",
       "(1280.0, 1440.0]      61466\n",
       "(1440.0, 1600.0]      44042\n",
       "(160.0, 320.0]        42835\n",
       "(1120.0, 1280.0]      41800\n",
       "(1760.0, 1920.0]      22418\n",
       "(1600.0, 1760.0]      14267\n",
       "(2080.0, 2240.0]      10966\n",
       "(1920.0, 2080.0]      10497\n",
       "(2240.0, 2400.0]       8714\n",
       "(2400.0, 2560.0]       5139\n",
       "(2560.0, 2720.0]       5091\n",
       "(2880.0, 3040.0]       4408\n",
       "(3040.0, 3200.0]       3040\n",
       "(3680.0, 3840.0]       2382\n",
       "(2720.0, 2880.0]       2149\n",
       "(3200.0, 3360.0]       1832\n",
       "(3360.0, 3520.0]       1590\n",
       "(3840.0, 4000.0]        118\n",
       "(3520.0, 3680.0]        105\n",
       "Name: RENT, dtype: int64"
      ]
     },
     "execution_count": 194,
     "metadata": {},
     "output_type": "execute_result"
    }
   ],
   "source": [
    "dp.RENT.value_counts(bins=25)"
   ]
  },
  {
   "cell_type": "code",
   "execution_count": 172,
   "metadata": {},
   "outputs": [
    {
     "data": {
      "text/plain": [
       "(-8999.0, 400959.96]        1745812\n",
       "(9600039.04, 9999999.0]     1013364\n",
       "(400959.96, 800919.92]       287985\n",
       "(800919.92, 1200879.88]       53518\n",
       "(1200879.88, 1600839.84]      14836\n",
       "(1600839.84, 2000799.8]       13099\n",
       "(2400759.76, 2800719.72]       6878\n",
       "(3200679.68, 3600639.64]       3264\n",
       "(2000799.8, 2400759.76]        2540\n",
       "(5200479.48, 5600439.44]       2327\n",
       "(2800719.72, 3200679.68]       1614\n",
       "(4800519.52, 5200479.48]       1333\n",
       "(4000599.6, 4400559.56]         365\n",
       "(3600639.64, 4000599.6]          70\n",
       "(8800119.12, 9200079.08]          0\n",
       "(8400159.16, 8800119.12]          0\n",
       "(9200079.08, 9600039.04]          0\n",
       "(5600439.44, 6000399.4]           0\n",
       "(6000399.4, 6400359.36]           0\n",
       "(6400359.36, 6800319.32]          0\n",
       "(6800319.32, 7200279.28]          0\n",
       "(7200279.28, 7600239.24]          0\n",
       "(7600239.24, 8000199.2]           0\n",
       "(8000199.2, 8400159.16]           0\n",
       "(4400559.56, 4800519.52]          0\n",
       "Name: VALUEH, dtype: int64"
      ]
     },
     "execution_count": 172,
     "metadata": {},
     "output_type": "execute_result"
    }
   ],
   "source": [
    "dp.VALUEH.value_counts(bins=25)"
   ]
  },
  {
   "cell_type": "code",
   "execution_count": 188,
   "metadata": {},
   "outputs": [],
   "source": [
    "dp.VALUEH = dp.VALUEH.replace({9999999.0: np.nan})"
   ]
  },
  {
   "cell_type": "code",
   "execution_count": 190,
   "metadata": {
    "collapsed": true
   },
   "outputs": [],
   "source": [
    "dp.HHINCOME = dp.HHINCOME.replace({9999999.0: np.nan})"
   ]
  },
  {
   "cell_type": "code",
   "execution_count": 195,
   "metadata": {
    "collapsed": true
   },
   "outputs": [],
   "source": [
    "dp.RENT = dp.RENT.replace({0: np.nan})"
   ]
  },
  {
   "cell_type": "code",
   "execution_count": 197,
   "metadata": {},
   "outputs": [
    {
     "data": {
      "text/html": [
       "<div>\n",
       "<style>\n",
       "    .dataframe thead tr:only-child th {\n",
       "        text-align: right;\n",
       "    }\n",
       "\n",
       "    .dataframe thead th {\n",
       "        text-align: left;\n",
       "    }\n",
       "\n",
       "    .dataframe tbody tr th {\n",
       "        vertical-align: top;\n",
       "    }\n",
       "</style>\n",
       "<table border=\"1\" class=\"dataframe\">\n",
       "  <thead>\n",
       "    <tr style=\"text-align: right;\">\n",
       "      <th></th>\n",
       "      <th>YEAR</th>\n",
       "      <th>NUMPREC</th>\n",
       "      <th>RENT</th>\n",
       "      <th>VALUEH</th>\n",
       "      <th>HHINCOME</th>\n",
       "      <th>DATANUM</th>\n",
       "      <th>SERIAL</th>\n",
       "      <th>PERNUM</th>\n",
       "      <th>PUMA</th>\n",
       "    </tr>\n",
       "  </thead>\n",
       "  <tbody>\n",
       "    <tr>\n",
       "      <th>count</th>\n",
       "      <td>3147005.0</td>\n",
       "      <td>3.147005e+06</td>\n",
       "      <td>810910.000000</td>\n",
       "      <td>2.133641e+06</td>\n",
       "      <td>2.998252e+06</td>\n",
       "      <td>3147005.0</td>\n",
       "      <td>3.147005e+06</td>\n",
       "      <td>3.147005e+06</td>\n",
       "      <td>3.147005e+06</td>\n",
       "    </tr>\n",
       "    <tr>\n",
       "      <th>mean</th>\n",
       "      <td>2015.0</td>\n",
       "      <td>3.168544e+00</td>\n",
       "      <td>970.747309</td>\n",
       "      <td>2.939088e+05</td>\n",
       "      <td>9.174719e+04</td>\n",
       "      <td>1.0</td>\n",
       "      <td>6.836987e+05</td>\n",
       "      <td>2.084272e+00</td>\n",
       "      <td>4.616182e+03</td>\n",
       "    </tr>\n",
       "    <tr>\n",
       "      <th>std</th>\n",
       "      <td>0.0</td>\n",
       "      <td>1.769318e+00</td>\n",
       "      <td>597.755662</td>\n",
       "      <td>3.900134e+05</td>\n",
       "      <td>9.463116e+04</td>\n",
       "      <td>0.0</td>\n",
       "      <td>4.005719e+05</td>\n",
       "      <td>1.340448e+00</td>\n",
       "      <td>9.323847e+03</td>\n",
       "    </tr>\n",
       "    <tr>\n",
       "      <th>min</th>\n",
       "      <td>2015.0</td>\n",
       "      <td>1.000000e+00</td>\n",
       "      <td>4.000000</td>\n",
       "      <td>1.000000e+03</td>\n",
       "      <td>-1.640000e+04</td>\n",
       "      <td>1.0</td>\n",
       "      <td>1.000000e+00</td>\n",
       "      <td>1.000000e+00</td>\n",
       "      <td>1.000000e+02</td>\n",
       "    </tr>\n",
       "    <tr>\n",
       "      <th>25%</th>\n",
       "      <td>2015.0</td>\n",
       "      <td>2.000000e+00</td>\n",
       "      <td>570.000000</td>\n",
       "      <td>1.100000e+05</td>\n",
       "      <td>3.600000e+04</td>\n",
       "      <td>1.0</td>\n",
       "      <td>3.332280e+05</td>\n",
       "      <td>1.000000e+00</td>\n",
       "      <td>9.000000e+02</td>\n",
       "    </tr>\n",
       "    <tr>\n",
       "      <th>50%</th>\n",
       "      <td>2015.0</td>\n",
       "      <td>3.000000e+00</td>\n",
       "      <td>830.000000</td>\n",
       "      <td>2.000000e+05</td>\n",
       "      <td>6.800000e+04</td>\n",
       "      <td>1.0</td>\n",
       "      <td>6.838670e+05</td>\n",
       "      <td>2.000000e+00</td>\n",
       "      <td>2.200000e+03</td>\n",
       "    </tr>\n",
       "    <tr>\n",
       "      <th>75%</th>\n",
       "      <td>2015.0</td>\n",
       "      <td>4.000000e+00</td>\n",
       "      <td>1200.000000</td>\n",
       "      <td>3.500000e+05</td>\n",
       "      <td>1.140000e+05</td>\n",
       "      <td>1.0</td>\n",
       "      <td>1.032830e+06</td>\n",
       "      <td>3.000000e+00</td>\n",
       "      <td>4.101000e+03</td>\n",
       "    </tr>\n",
       "    <tr>\n",
       "      <th>max</th>\n",
       "      <td>2015.0</td>\n",
       "      <td>2.000000e+01</td>\n",
       "      <td>4000.000000</td>\n",
       "      <td>5.567000e+06</td>\n",
       "      <td>2.100000e+06</td>\n",
       "      <td>1.0</td>\n",
       "      <td>1.375481e+06</td>\n",
       "      <td>2.000000e+01</td>\n",
       "      <td>7.030100e+04</td>\n",
       "    </tr>\n",
       "  </tbody>\n",
       "</table>\n",
       "</div>"
      ],
      "text/plain": [
       "            YEAR       NUMPREC           RENT        VALUEH      HHINCOME  \\\n",
       "count  3147005.0  3.147005e+06  810910.000000  2.133641e+06  2.998252e+06   \n",
       "mean      2015.0  3.168544e+00     970.747309  2.939088e+05  9.174719e+04   \n",
       "std          0.0  1.769318e+00     597.755662  3.900134e+05  9.463116e+04   \n",
       "min       2015.0  1.000000e+00       4.000000  1.000000e+03 -1.640000e+04   \n",
       "25%       2015.0  2.000000e+00     570.000000  1.100000e+05  3.600000e+04   \n",
       "50%       2015.0  3.000000e+00     830.000000  2.000000e+05  6.800000e+04   \n",
       "75%       2015.0  4.000000e+00    1200.000000  3.500000e+05  1.140000e+05   \n",
       "max       2015.0  2.000000e+01    4000.000000  5.567000e+06  2.100000e+06   \n",
       "\n",
       "         DATANUM        SERIAL        PERNUM          PUMA  \n",
       "count  3147005.0  3.147005e+06  3.147005e+06  3.147005e+06  \n",
       "mean         1.0  6.836987e+05  2.084272e+00  4.616182e+03  \n",
       "std          0.0  4.005719e+05  1.340448e+00  9.323847e+03  \n",
       "min          1.0  1.000000e+00  1.000000e+00  1.000000e+02  \n",
       "25%          1.0  3.332280e+05  1.000000e+00  9.000000e+02  \n",
       "50%          1.0  6.838670e+05  2.000000e+00  2.200000e+03  \n",
       "75%          1.0  1.032830e+06  3.000000e+00  4.101000e+03  \n",
       "max          1.0  1.375481e+06  2.000000e+01  7.030100e+04  "
      ]
     },
     "execution_count": 197,
     "metadata": {},
     "output_type": "execute_result"
    }
   ],
   "source": [
    "dp.describe()"
   ]
  },
  {
   "cell_type": "code",
   "execution_count": 220,
   "metadata": {},
   "outputs": [
    {
     "data": {
      "text/plain": [
       "YEAR        0.000000\n",
       "NUMPREC     1.275237\n",
       "RENT        1.480259\n",
       "VALUEH      6.234268\n",
       "HHINCOME    3.588849\n",
       "DATANUM     0.000000\n",
       "SERIAL      0.010785\n",
       "PERNUM      1.762743\n",
       "PUMA        4.506265\n",
       "dtype: float64"
      ]
     },
     "execution_count": 220,
     "metadata": {},
     "output_type": "execute_result"
    }
   ],
   "source": [
    "dp.skew()"
   ]
  },
  {
   "cell_type": "code",
   "execution_count": 221,
   "metadata": {},
   "outputs": [
    {
     "data": {
      "text/plain": [
       "YEAR         0.000000\n",
       "NUMPREC      3.594009\n",
       "RENT         3.009130\n",
       "VALUEH      60.332877\n",
       "HHINCOME    21.988185\n",
       "DATANUM      0.000000\n",
       "SERIAL      -1.225192\n",
       "PERNUM       5.137902\n",
       "PUMA        20.768426\n",
       "dtype: float64"
      ]
     },
     "execution_count": 221,
     "metadata": {},
     "output_type": "execute_result"
    }
   ],
   "source": [
    "dp.kurt()"
   ]
  },
  {
   "cell_type": "markdown",
   "metadata": {},
   "source": [
    "More than 3 million people were included in the 2015 survey (~1% of Americans). The majority (>90%) of households surveyed are small households (5 or less people), accounting for individuals, couples and small families who live together. This means the home values and rents will be representative of this segment of American communities."
   ]
  },
  {
   "cell_type": "code",
   "execution_count": 156,
   "metadata": {},
   "outputs": [
    {
     "data": {
      "text/plain": [
       "N/A    3147005\n",
       "Name: VACANCY, dtype: int64"
      ]
     },
     "execution_count": 156,
     "metadata": {},
     "output_type": "execute_result"
    }
   ],
   "source": [
    "dp.VACANCY.value_counts()"
   ]
  },
  {
   "cell_type": "markdown",
   "metadata": {},
   "source": [
    "Vacancy data is not available for 2015 - I will look for other data points to indicate vacancy across the survey data. Or this may mean that the study cannot include vacancy as a dependent variable."
   ]
  },
  {
   "cell_type": "code",
   "execution_count": 158,
   "metadata": {},
   "outputs": [
    {
     "data": {
      "text/plain": [
       "Employed              1442336\n",
       "Not in labor force    1039971\n",
       "N/A                    575245\n",
       "Unemployed              89453\n",
       "Name: EMPSTAT, dtype: int64"
      ]
     },
     "execution_count": 158,
     "metadata": {},
     "output_type": "execute_result"
    }
   ],
   "source": [
    "dp.EMPSTAT.value_counts()"
   ]
  },
  {
   "cell_type": "markdown",
   "metadata": {},
   "source": [
    "18% of respondents did not indicate employment status. Of the 82% (2.6 million) who did, 56% are actively employed, 3% are unemployed and 40% are not actively in the labor market. The degree that local employment figures differ amongst different areas may impact housing price and rent predictions."
   ]
  },
  {
   "cell_type": "code",
   "execution_count": 159,
   "metadata": {},
   "outputs": [
    {
     "data": {
      "text/plain": [
       "Grade 12                     934905\n",
       "4 years of college           443798\n",
       "1 year of college            388077\n",
       "5+ years of college          272829\n",
       "Nursery school to grade 4    245605\n",
       "Grade 5, 6, 7, or 8          223870\n",
       "2 years of college           196828\n",
       "N/A or no schooling          193050\n",
       "Grade 11                      91145\n",
       "Grade 10                      82972\n",
       "Grade 9                       73926\n",
       "Name: EDUC, dtype: int64"
      ]
     },
     "execution_count": 159,
     "metadata": {},
     "output_type": "execute_result"
    }
   ],
   "source": [
    "dp.EDUC.value_counts()"
   ]
  },
  {
   "cell_type": "markdown",
   "metadata": {},
   "source": [
    "Nearly half of individuals in households surveyed have completed high school (48%), while roughly a quarter (23%) have completed 4 or more years of college, and the remainder are attending / have not completed high school. Educational attainment, like employment status, can be compared across geographic areas to determine impact on housing price and rent predictions. The correlation between educational attainment and employment status, as well as household income, needs to be examined carefully to determine if the variables are sufficiently independent."
   ]
  },
  {
   "cell_type": "code",
   "execution_count": 160,
   "metadata": {},
   "outputs": [
    {
     "data": {
      "text/plain": [
       "White                               2413345\n",
       "Black/African American/Negro         327549\n",
       "Other race, nec                      116026\n",
       "Other Asian or Pacific Islander      115345\n",
       "Two major races                       81050\n",
       "Chinese                               40671\n",
       "American Indian or Alaska Native      34503\n",
       "Three or more major races             10672\n",
       "Japanese                               7844\n",
       "Name: RACE, dtype: int64"
      ]
     },
     "execution_count": 160,
     "metadata": {},
     "output_type": "execute_result"
    }
   ],
   "source": [
    "dp.RACE.value_counts()"
   ]
  },
  {
   "cell_type": "markdown",
   "metadata": {},
   "source": [
    "77% of the sample population is white. This is higher than the reported 2010 Census (72.4%) and criticisms of the census process include under-representation of immigrant and minority communities. Therefore, the figures obtained for race need to be used with caution. However, it would be interesting to look at race as a predictor of housing price and rent. It is likely to be a significant factor, based on my limited knowledge (from reading news articles)."
   ]
  },
  {
   "cell_type": "code",
   "execution_count": 161,
   "metadata": {},
   "outputs": [
    {
     "data": {
      "text/plain": [
       "1-family house, detached    2156384\n",
       "Mobile home or trailer       172366\n",
       "1-family house, attached     161601\n",
       "N/A                          148753\n",
       "3-4 family building           96349\n",
       "5-9 family building           90984\n",
       "2-family building             88081\n",
       "50+ family building           87757\n",
       "10-19 family building         79284\n",
       "20-49 family building         63281\n",
       "Boat, tent, van, other         2165\n",
       "Name: UNITSSTR, dtype: int64"
      ]
     },
     "execution_count": 161,
     "metadata": {},
     "output_type": "execute_result"
    }
   ],
   "source": [
    "dp.UNITSSTR.value_counts()"
   ]
  },
  {
   "cell_type": "markdown",
   "metadata": {},
   "source": [
    "Nearly 70% of households in the sample reside in single family detached homes. When drilling down on the urban areas of Cleveland, Boston and Brooklyn, the distribution is likely to change dramatically with the prevalence of dense housing structures. I do not have expectations for the impact of housing type / number of units on predictions."
   ]
  },
  {
   "cell_type": "code",
   "execution_count": 218,
   "metadata": {},
   "outputs": [],
   "source": [
    "a=dp['HHINCOME']\n",
    "b=dp['RENT']\n",
    "c=dp['VALUEH']\n",
    "d=dp[['VALUEH','RENT','HHINCOME']]"
   ]
  },
  {
   "cell_type": "code",
   "execution_count": 210,
   "metadata": {},
   "outputs": [
    {
     "data": {
      "image/png": "[encoded data removed]",
      "text/plain": [
       "<matplotlib.figure.Figure at 0x1cfaaa828>"
      ]
     },
     "metadata": {},
     "output_type": "display_data"
    }
   ],
   "source": [
    "a.hist(bins = 500);\n",
    "plt.show();"
   ]
  },
  {
   "cell_type": "code",
   "execution_count": 234,
   "metadata": {
    "scrolled": true
   },
   "outputs": [],
   "source": [
    "e = data[['RENT','VALUEH','EMPSTAT','HHINCOME','EDUC','RACE','UNITSSTR']]"
   ]
  },
  {
   "cell_type": "code",
   "execution_count": 227,
   "metadata": {},
   "outputs": [
    {
     "data": {
      "image/png": "[encoded data removed]",
      "text/plain": [
       "<matplotlib.figure.Figure at 0x7bd655c0>"
      ]
     },
     "metadata": {},
     "output_type": "display_data"
    }
   ],
   "source": [
    "sns.heatmap(e.corr(), annot=True);\n",
    "plt.show();"
   ]
  },
  {
   "cell_type": "markdown",
   "metadata": {},
   "source": [
    "Not surprisingly, our two independent variables, RENT and VALUEH (rent and home value) are strongly correlated. Rent correlates well also with UNITSSTR (number of units in the building) and home values correlate well with HHINCOME (household income) and UNITSSTR. The low correlations are surprising and in order to build a model with good prediction performance, additional variables may need to be included. It is possible the correlations will change if we focus in on the areas of interest, Cleveland, Boston, and Brooklyn."
   ]
  },
  {
   "cell_type": "code",
   "execution_count": null,
   "metadata": {
    "collapsed": true
   },
   "outputs": [],
   "source": []
  }
 ],
 "metadata": {
  "kernelspec": {
   "display_name": "Python 2",
   "language": "python",
   "name": "python2"
  },
  "language_info": {
   "codemirror_mode": {
    "name": "ipython",
    "version": 2
   },
   "file_extension": ".py",
   "mimetype": "text/x-python",
   "name": "python",
   "nbconvert_exporter": "python",
   "pygments_lexer": "ipython2",
   "version": "2.7.13"
  }
 },
 "nbformat": 4,
 "nbformat_minor": 2
}
